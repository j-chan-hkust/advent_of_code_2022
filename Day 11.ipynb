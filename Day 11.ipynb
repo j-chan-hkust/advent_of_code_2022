{
 "cells": [
  {
   "cell_type": "code",
   "execution_count": 57,
   "id": "69a98084",
   "metadata": {},
   "outputs": [],
   "source": [
    "input_str = \"\"\"Monkey 0:\n",
    "  Starting items: 79, 98\n",
    "  Operation: new = old * 19\n",
    "  Test: divisible by 23\n",
    "    If true: throw to monkey 2\n",
    "    If false: throw to monkey 3\n",
    "\n",
    "Monkey 1:\n",
    "  Starting items: 54, 65, 75, 74\n",
    "  Operation: new = old + 6\n",
    "  Test: divisible by 19\n",
    "    If true: throw to monkey 2\n",
    "    If false: throw to monkey 0\n",
    "\n",
    "Monkey 2:\n",
    "  Starting items: 79, 60, 97\n",
    "  Operation: new = old * old\n",
    "  Test: divisible by 13\n",
    "    If true: throw to monkey 1\n",
    "    If false: throw to monkey 3\n",
    "\n",
    "Monkey 3:\n",
    "  Starting items: 74\n",
    "  Operation: new = old + 3\n",
    "  Test: divisible by 17\n",
    "    If true: throw to monkey 0\n",
    "    If false: throw to monkey 1\"\"\""
   ]
  },
  {
   "cell_type": "code",
   "execution_count": 91,
   "id": "373f3cb7",
   "metadata": {},
   "outputs": [],
   "source": [
    "input_str = \"\"\"Monkey 0:\n",
    "  Starting items: 93, 98\n",
    "  Operation: new = old * 17\n",
    "  Test: divisible by 19\n",
    "    If true: throw to monkey 5\n",
    "    If false: throw to monkey 3\n",
    "\n",
    "Monkey 1:\n",
    "  Starting items: 95, 72, 98, 82, 86\n",
    "  Operation: new = old + 5\n",
    "  Test: divisible by 13\n",
    "    If true: throw to monkey 7\n",
    "    If false: throw to monkey 6\n",
    "\n",
    "Monkey 2:\n",
    "  Starting items: 85, 62, 82, 86, 70, 65, 83, 76\n",
    "  Operation: new = old + 8\n",
    "  Test: divisible by 5\n",
    "    If true: throw to monkey 3\n",
    "    If false: throw to monkey 0\n",
    "\n",
    "Monkey 3:\n",
    "  Starting items: 86, 70, 71, 56\n",
    "  Operation: new = old + 1\n",
    "  Test: divisible by 7\n",
    "    If true: throw to monkey 4\n",
    "    If false: throw to monkey 5\n",
    "\n",
    "Monkey 4:\n",
    "  Starting items: 77, 71, 86, 52, 81, 67\n",
    "  Operation: new = old + 4\n",
    "  Test: divisible by 17\n",
    "    If true: throw to monkey 1\n",
    "    If false: throw to monkey 6\n",
    "\n",
    "Monkey 5:\n",
    "  Starting items: 89, 87, 60, 78, 54, 77, 98\n",
    "  Operation: new = old * 7\n",
    "  Test: divisible by 2\n",
    "    If true: throw to monkey 1\n",
    "    If false: throw to monkey 4\n",
    "\n",
    "Monkey 6:\n",
    "  Starting items: 69, 65, 63\n",
    "  Operation: new = old + 6\n",
    "  Test: divisible by 3\n",
    "    If true: throw to monkey 7\n",
    "    If false: throw to monkey 2\n",
    "\n",
    "Monkey 7:\n",
    "  Starting items: 89\n",
    "  Operation: new = old * old\n",
    "  Test: divisible by 11\n",
    "    If true: throw to monkey 0\n",
    "    If false: throw to monkey 2\"\"\""
   ]
  },
  {
   "cell_type": "code",
   "execution_count": 92,
   "id": "19f54369",
   "metadata": {},
   "outputs": [],
   "source": [
    "monkeys_raw_info = input_str.split('\\n\\n')"
   ]
  },
  {
   "cell_type": "code",
   "execution_count": 93,
   "id": "a8efa5af",
   "metadata": {},
   "outputs": [],
   "source": [
    "monkey_info = []\n",
    "for monkey_raw in monkeys_raw_info:\n",
    "    monkey_attributes = {}\n",
    "    monkey_raw = monkey_raw.split('\\n')\n",
    "    starting_item = [int(item) for item in monkey_raw[1].split(': ')[1].split(', ')]\n",
    "    monkey_attributes['starting item'] = starting_item\n",
    "    \n",
    "    operation = monkey_raw[2].split(': ')[1]\n",
    "    monkey_attributes['operation'] = operation\n",
    "    \n",
    "    test = int(monkey_raw[3].split('by ')[1])\n",
    "    monkey_attributes['test'] = test\n",
    "    \n",
    "    if_true = int(monkey_raw[4].split('monkey ')[1])\n",
    "    monkey_attributes['if true'] = if_true\n",
    "    \n",
    "    if_false = int(monkey_raw[5].split('monkey ')[1])\n",
    "    monkey_attributes['if false'] = if_false\n",
    "    \n",
    "    monkey_attributes['inspected'] = 0\n",
    "    \n",
    "    monkey_info.append(monkey_attributes)"
   ]
  },
  {
   "cell_type": "code",
   "execution_count": 94,
   "id": "454d1747",
   "metadata": {},
   "outputs": [
    {
     "data": {
      "text/plain": [
       "[{'starting item': [93, 98],\n",
       "  'operation': 'new = old * 17',\n",
       "  'test': 19,\n",
       "  'if true': 5,\n",
       "  'if false': 3,\n",
       "  'inspected': 0},\n",
       " {'starting item': [95, 72, 98, 82, 86],\n",
       "  'operation': 'new = old + 5',\n",
       "  'test': 13,\n",
       "  'if true': 7,\n",
       "  'if false': 6,\n",
       "  'inspected': 0},\n",
       " {'starting item': [85, 62, 82, 86, 70, 65, 83, 76],\n",
       "  'operation': 'new = old + 8',\n",
       "  'test': 5,\n",
       "  'if true': 3,\n",
       "  'if false': 0,\n",
       "  'inspected': 0},\n",
       " {'starting item': [86, 70, 71, 56],\n",
       "  'operation': 'new = old + 1',\n",
       "  'test': 7,\n",
       "  'if true': 4,\n",
       "  'if false': 5,\n",
       "  'inspected': 0},\n",
       " {'starting item': [77, 71, 86, 52, 81, 67],\n",
       "  'operation': 'new = old + 4',\n",
       "  'test': 17,\n",
       "  'if true': 1,\n",
       "  'if false': 6,\n",
       "  'inspected': 0},\n",
       " {'starting item': [89, 87, 60, 78, 54, 77, 98],\n",
       "  'operation': 'new = old * 7',\n",
       "  'test': 2,\n",
       "  'if true': 1,\n",
       "  'if false': 4,\n",
       "  'inspected': 0},\n",
       " {'starting item': [69, 65, 63],\n",
       "  'operation': 'new = old + 6',\n",
       "  'test': 3,\n",
       "  'if true': 7,\n",
       "  'if false': 2,\n",
       "  'inspected': 0},\n",
       " {'starting item': [89],\n",
       "  'operation': 'new = old * old',\n",
       "  'test': 11,\n",
       "  'if true': 0,\n",
       "  'if false': 2,\n",
       "  'inspected': 0}]"
      ]
     },
     "execution_count": 94,
     "metadata": {},
     "output_type": "execute_result"
    }
   ],
   "source": [
    "monkey_info"
   ]
  },
  {
   "cell_type": "code",
   "execution_count": 95,
   "id": "d5671ee2",
   "metadata": {},
   "outputs": [],
   "source": [
    "step = 0\n",
    "\n",
    "while step < 20:\n",
    "    step += 1\n",
    "    for monkey in monkey_info:\n",
    "        items = sorted(monkey['starting item'])\n",
    "        operation = monkey['operation']\n",
    "        for item in items:\n",
    "            monkey['inspected'] += 1\n",
    "            \n",
    "            old = item\n",
    "            exec(operation)\n",
    "            \n",
    "            new = int(new/3)\n",
    "            if new % monkey['test'] == 0:\n",
    "                monkey_info[monkey['if true']]['starting item'].append(new)\n",
    "            else:\n",
    "                monkey_info[monkey['if false']]['starting item'].append(new)\n",
    "        monkey['starting item'] = []"
   ]
  },
  {
   "cell_type": "code",
   "execution_count": 96,
   "id": "fb5052e3",
   "metadata": {},
   "outputs": [
    {
     "data": {
      "text/plain": [
       "[{'starting item': [3,\n",
       "   3,\n",
       "   3,\n",
       "   3,\n",
       "   3,\n",
       "   3,\n",
       "   3,\n",
       "   3,\n",
       "   3,\n",
       "   3,\n",
       "   4,\n",
       "   4,\n",
       "   4,\n",
       "   4,\n",
       "   4,\n",
       "   4,\n",
       "   4,\n",
       "   4,\n",
       "   4,\n",
       "   4,\n",
       "   4,\n",
       "   4,\n",
       "   4],\n",
       "  'operation': 'new = old * 17',\n",
       "  'test': 19,\n",
       "  'if true': 5,\n",
       "  'if false': 3,\n",
       "  'inspected': 251},\n",
       " {'starting item': [14, 14, 14, 14, 14],\n",
       "  'operation': 'new = old + 5',\n",
       "  'test': 13,\n",
       "  'if true': 7,\n",
       "  'if false': 6,\n",
       "  'inspected': 128},\n",
       " {'starting item': [4, 10, 3, 3, 3, 3, 3, 225],\n",
       "  'operation': 'new = old + 8',\n",
       "  'test': 5,\n",
       "  'if true': 3,\n",
       "  'if false': 0,\n",
       "  'inspected': 282},\n",
       " {'starting item': [],\n",
       "  'operation': 'new = old + 1',\n",
       "  'test': 7,\n",
       "  'if true': 4,\n",
       "  'if false': 5,\n",
       "  'inspected': 266},\n",
       " {'starting item': [],\n",
       "  'operation': 'new = old + 4',\n",
       "  'test': 17,\n",
       "  'if true': 1,\n",
       "  'if false': 6,\n",
       "  'inspected': 152},\n",
       " {'starting item': [],\n",
       "  'operation': 'new = old * 7',\n",
       "  'test': 2,\n",
       "  'if true': 1,\n",
       "  'if false': 4,\n",
       "  'inspected': 165},\n",
       " {'starting item': [],\n",
       "  'operation': 'new = old + 6',\n",
       "  'test': 3,\n",
       "  'if true': 7,\n",
       "  'if false': 2,\n",
       "  'inspected': 279},\n",
       " {'starting item': [],\n",
       "  'operation': 'new = old * old',\n",
       "  'test': 11,\n",
       "  'if true': 0,\n",
       "  'if false': 2,\n",
       "  'inspected': 130}]"
      ]
     },
     "execution_count": 96,
     "metadata": {},
     "output_type": "execute_result"
    }
   ],
   "source": [
    "monkey_info"
   ]
  },
  {
   "cell_type": "code",
   "execution_count": 99,
   "id": "0252991f",
   "metadata": {},
   "outputs": [],
   "source": [
    "inspections = [monkey['inspected'] for monkey in monkey_info]"
   ]
  },
  {
   "cell_type": "code",
   "execution_count": 104,
   "id": "1f9b5440",
   "metadata": {},
   "outputs": [
    {
     "data": {
      "text/plain": [
       "78678"
      ]
     },
     "execution_count": 104,
     "metadata": {},
     "output_type": "execute_result"
    }
   ],
   "source": [
    "sorted(inspections)[-1]*sorted(inspections)[-2]"
   ]
  },
  {
   "cell_type": "code",
   "execution_count": 110,
   "id": "d0193034",
   "metadata": {},
   "outputs": [],
   "source": [
    "#our main goal is to keep the item worries becoming exponentially large. \n",
    "#Regardless of how large stuff gets, it modding by the product of all divisors should still preserve properties\n",
    "from math import prod\n",
    "\n",
    "divisor_product = prod([monkey['test'] for monkey in monkey_info]).real"
   ]
  },
  {
   "cell_type": "code",
   "execution_count": 112,
   "id": "3b5294cd",
   "metadata": {},
   "outputs": [
    {
     "data": {
      "text/plain": [
       "9699690"
      ]
     },
     "execution_count": 112,
     "metadata": {},
     "output_type": "execute_result"
    }
   ],
   "source": [
    "divisor_product"
   ]
  },
  {
   "cell_type": "code",
   "execution_count": 113,
   "id": "d8ac8ffe",
   "metadata": {},
   "outputs": [],
   "source": [
    "monkey_info = []\n",
    "for monkey_raw in monkeys_raw_info:\n",
    "    monkey_attributes = {}\n",
    "    monkey_raw = monkey_raw.split('\\n')\n",
    "    starting_item = [int(item) for item in monkey_raw[1].split(': ')[1].split(', ')]\n",
    "    monkey_attributes['starting item'] = starting_item\n",
    "    \n",
    "    operation = monkey_raw[2].split(': ')[1]\n",
    "    monkey_attributes['operation'] = operation\n",
    "    \n",
    "    test = int(monkey_raw[3].split('by ')[1])\n",
    "    monkey_attributes['test'] = test\n",
    "    \n",
    "    if_true = int(monkey_raw[4].split('monkey ')[1])\n",
    "    monkey_attributes['if true'] = if_true\n",
    "    \n",
    "    if_false = int(monkey_raw[5].split('monkey ')[1])\n",
    "    monkey_attributes['if false'] = if_false\n",
    "    \n",
    "    monkey_attributes['inspected'] = 0\n",
    "    \n",
    "    monkey_info.append(monkey_attributes)"
   ]
  },
  {
   "cell_type": "code",
   "execution_count": 114,
   "id": "ec7b2bce",
   "metadata": {},
   "outputs": [
    {
     "data": {
      "text/plain": [
       "[{'starting item': [93, 98],\n",
       "  'operation': 'new = old * 17',\n",
       "  'test': 19,\n",
       "  'if true': 5,\n",
       "  'if false': 3,\n",
       "  'inspected': 0},\n",
       " {'starting item': [95, 72, 98, 82, 86],\n",
       "  'operation': 'new = old + 5',\n",
       "  'test': 13,\n",
       "  'if true': 7,\n",
       "  'if false': 6,\n",
       "  'inspected': 0},\n",
       " {'starting item': [85, 62, 82, 86, 70, 65, 83, 76],\n",
       "  'operation': 'new = old + 8',\n",
       "  'test': 5,\n",
       "  'if true': 3,\n",
       "  'if false': 0,\n",
       "  'inspected': 0},\n",
       " {'starting item': [86, 70, 71, 56],\n",
       "  'operation': 'new = old + 1',\n",
       "  'test': 7,\n",
       "  'if true': 4,\n",
       "  'if false': 5,\n",
       "  'inspected': 0},\n",
       " {'starting item': [77, 71, 86, 52, 81, 67],\n",
       "  'operation': 'new = old + 4',\n",
       "  'test': 17,\n",
       "  'if true': 1,\n",
       "  'if false': 6,\n",
       "  'inspected': 0},\n",
       " {'starting item': [89, 87, 60, 78, 54, 77, 98],\n",
       "  'operation': 'new = old * 7',\n",
       "  'test': 2,\n",
       "  'if true': 1,\n",
       "  'if false': 4,\n",
       "  'inspected': 0},\n",
       " {'starting item': [69, 65, 63],\n",
       "  'operation': 'new = old + 6',\n",
       "  'test': 3,\n",
       "  'if true': 7,\n",
       "  'if false': 2,\n",
       "  'inspected': 0},\n",
       " {'starting item': [89],\n",
       "  'operation': 'new = old * old',\n",
       "  'test': 11,\n",
       "  'if true': 0,\n",
       "  'if false': 2,\n",
       "  'inspected': 0}]"
      ]
     },
     "execution_count": 114,
     "metadata": {},
     "output_type": "execute_result"
    }
   ],
   "source": [
    "monkey_info"
   ]
  },
  {
   "cell_type": "code",
   "execution_count": 115,
   "id": "7210929c",
   "metadata": {},
   "outputs": [],
   "source": [
    "step = 0\n",
    "\n",
    "while step < 10000:\n",
    "    step += 1\n",
    "    for monkey in monkey_info:\n",
    "        items = sorted(monkey['starting item'])\n",
    "        operation = monkey['operation']\n",
    "        for item in items:\n",
    "            monkey['inspected'] += 1\n",
    "            \n",
    "            old = item\n",
    "            exec(operation)\n",
    "            \n",
    "            new = new%divisor_product\n",
    "            if new % monkey['test'] == 0:\n",
    "                monkey_info[monkey['if true']]['starting item'].append(new)\n",
    "            else:\n",
    "                monkey_info[monkey['if false']]['starting item'].append(new)\n",
    "        monkey['starting item'] = []"
   ]
  },
  {
   "cell_type": "code",
   "execution_count": 116,
   "id": "598d4cbc",
   "metadata": {},
   "outputs": [],
   "source": [
    "inspections = [monkey['inspected'] for monkey in monkey_info]"
   ]
  },
  {
   "cell_type": "code",
   "execution_count": 117,
   "id": "29fbd2dd",
   "metadata": {},
   "outputs": [
    {
     "data": {
      "text/plain": [
       "15333249714"
      ]
     },
     "execution_count": 117,
     "metadata": {},
     "output_type": "execute_result"
    }
   ],
   "source": [
    "sorted(inspections)[-1]*sorted(inspections)[-2]"
   ]
  },
  {
   "cell_type": "code",
   "execution_count": null,
   "id": "180fb676",
   "metadata": {},
   "outputs": [],
   "source": []
  }
 ],
 "metadata": {
  "kernelspec": {
   "display_name": "Python 3 (ipykernel)",
   "language": "python",
   "name": "python3"
  },
  "language_info": {
   "codemirror_mode": {
    "name": "ipython",
    "version": 3
   },
   "file_extension": ".py",
   "mimetype": "text/x-python",
   "name": "python",
   "nbconvert_exporter": "python",
   "pygments_lexer": "ipython3",
   "version": "3.9.12"
  }
 },
 "nbformat": 4,
 "nbformat_minor": 5
}
