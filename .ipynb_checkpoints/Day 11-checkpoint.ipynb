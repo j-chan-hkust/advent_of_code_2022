{
 "cells": [
  {
   "cell_type": "code",
   "execution_count": 1,
   "id": "4ea19e86",
   "metadata": {},
   "outputs": [],
   "source": [
    "input_str = \"\"\"Monkey 0:\n",
    "  Starting items: 93, 98\n",
    "  Operation: new = old * 17\n",
    "  Test: divisible by 19\n",
    "    If true: throw to monkey 5\n",
    "    If false: throw to monkey 3\n",
    "\n",
    "Monkey 1:\n",
    "  Starting items: 95, 72, 98, 82, 86\n",
    "  Operation: new = old + 5\n",
    "  Test: divisible by 13\n",
    "    If true: throw to monkey 7\n",
    "    If false: throw to monkey 6\n",
    "\n",
    "Monkey 2:\n",
    "  Starting items: 85, 62, 82, 86, 70, 65, 83, 76\n",
    "  Operation: new = old + 8\n",
    "  Test: divisible by 5\n",
    "    If true: throw to monkey 3\n",
    "    If false: throw to monkey 0\n",
    "\n",
    "Monkey 3:\n",
    "  Starting items: 86, 70, 71, 56\n",
    "  Operation: new = old + 1\n",
    "  Test: divisible by 7\n",
    "    If true: throw to monkey 4\n",
    "    If false: throw to monkey 5\n",
    "\n",
    "Monkey 4:\n",
    "  Starting items: 77, 71, 86, 52, 81, 67\n",
    "  Operation: new = old + 4\n",
    "  Test: divisible by 17\n",
    "    If true: throw to monkey 1\n",
    "    If false: throw to monkey 6\n",
    "\n",
    "Monkey 5:\n",
    "  Starting items: 89, 87, 60, 78, 54, 77, 98\n",
    "  Operation: new = old * 7\n",
    "  Test: divisible by 2\n",
    "    If true: throw to monkey 1\n",
    "    If false: throw to monkey 4\n",
    "\n",
    "Monkey 6:\n",
    "  Starting items: 69, 65, 63\n",
    "  Operation: new = old + 6\n",
    "  Test: divisible by 3\n",
    "    If true: throw to monkey 7\n",
    "    If false: throw to monkey 2\n",
    "\n",
    "Monkey 7:\n",
    "  Starting items: 89\n",
    "  Operation: new = old * old\n",
    "  Test: divisible by 11\n",
    "    If true: throw to monkey 0\n",
    "    If false: throw to monkey 2\"\"\""
   ]
  },
  {
   "cell_type": "code",
   "execution_count": 4,
   "id": "469e52ac",
   "metadata": {},
   "outputs": [],
   "source": [
    "monkeys_raw_info = input_str.split('\\n\\n')"
   ]
  },
  {
   "cell_type": "code",
   "execution_count": 8,
   "id": "2d50c343",
   "metadata": {},
   "outputs": [],
   "source": [
    "monkey_info = []\n",
    "for monkey_raw in monkeys_raw_info:\n",
    "    monkey_attributes = {}\n",
    "    monkey_raw = monkey_raw.split('\\n')\n",
    "    starting_item = [int(item) for item in monkey_raw[1].split(': ')[1].split(', ')]\n",
    "    monkey_attributes['starting item'] = starting_item\n",
    "    \n",
    "    operation = monkey_raw[2].split(': ')[1]\n",
    "    monkey_attributes['operation'] = operation\n",
    "    \n",
    "    test = int(monkey_raw[3].split('by ')[1])\n",
    "    monkey_attributes['test'] = test\n",
    "    \n",
    "    if_true = int(monkey_raw[4].split('monkey ')[1])\n",
    "    monkey_attributes['if true'] = if_true\n",
    "    \n",
    "    if_false = int(monkey_raw[5].split('monkey ')[1])\n",
    "    monkey_attributes['if false'] = if_false\n",
    "    \n",
    "    monkey_info.append(monkey_attributes)"
   ]
  },
  {
   "cell_type": "code",
   "execution_count": 9,
   "id": "a0960e33",
   "metadata": {},
   "outputs": [
    {
     "data": {
      "text/plain": [
       "[{'starting item': [93, 98],\n",
       "  'operation': 'new = old * 17',\n",
       "  'test': 19,\n",
       "  'if true': 5,\n",
       "  'if false': 3},\n",
       " {'starting item': [95, 72, 98, 82, 86],\n",
       "  'operation': 'new = old + 5',\n",
       "  'test': 13,\n",
       "  'if true': 7,\n",
       "  'if false': 6},\n",
       " {'starting item': [85, 62, 82, 86, 70, 65, 83, 76],\n",
       "  'operation': 'new = old + 8',\n",
       "  'test': 5,\n",
       "  'if true': 3,\n",
       "  'if false': 0},\n",
       " {'starting item': [86, 70, 71, 56],\n",
       "  'operation': 'new = old + 1',\n",
       "  'test': 7,\n",
       "  'if true': 4,\n",
       "  'if false': 5},\n",
       " {'starting item': [77, 71, 86, 52, 81, 67],\n",
       "  'operation': 'new = old + 4',\n",
       "  'test': 17,\n",
       "  'if true': 1,\n",
       "  'if false': 6},\n",
       " {'starting item': [89, 87, 60, 78, 54, 77, 98],\n",
       "  'operation': 'new = old * 7',\n",
       "  'test': 2,\n",
       "  'if true': 1,\n",
       "  'if false': 4},\n",
       " {'starting item': [69, 65, 63],\n",
       "  'operation': 'new = old + 6',\n",
       "  'test': 3,\n",
       "  'if true': 7,\n",
       "  'if false': 2},\n",
       " {'starting item': [89],\n",
       "  'operation': 'new = old * old',\n",
       "  'test': 11,\n",
       "  'if true': 0,\n",
       "  'if false': 2}]"
      ]
     },
     "execution_count": 9,
     "metadata": {},
     "output_type": "execute_result"
    }
   ],
   "source": [
    "monkey_info"
   ]
  },
  {
   "cell_type": "code",
   "execution_count": null,
   "id": "c114b820",
   "metadata": {},
   "outputs": [],
   "source": [
    "step = 0\n",
    "\n",
    "while step <= 20:\n",
    "    step += 1\n",
    "    \n",
    "    "
   ]
  },
  {
   "cell_type": "code",
   "execution_count": 10,
   "id": "3b5828c6",
   "metadata": {},
   "outputs": [],
   "source": [
    "a = [1,2,3]\n",
    "\n",
    "for i in a:\n",
    "    a[i+1] += 2\n",
    "    break"
   ]
  },
  {
   "cell_type": "code",
   "execution_count": 11,
   "id": "6bc0448d",
   "metadata": {},
   "outputs": [
    {
     "data": {
      "text/plain": [
       "[1, 2, 5]"
      ]
     },
     "execution_count": 11,
     "metadata": {},
     "output_type": "execute_result"
    }
   ],
   "source": [
    "a"
   ]
  },
  {
   "cell_type": "code",
   "execution_count": null,
   "id": "d479026f",
   "metadata": {},
   "outputs": [],
   "source": []
  }
 ],
 "metadata": {
  "kernelspec": {
   "display_name": "Python 3 (ipykernel)",
   "language": "python",
   "name": "python3"
  },
  "language_info": {
   "codemirror_mode": {
    "name": "ipython",
    "version": 3
   },
   "file_extension": ".py",
   "mimetype": "text/x-python",
   "name": "python",
   "nbconvert_exporter": "python",
   "pygments_lexer": "ipython3",
   "version": "3.9.12"
  }
 },
 "nbformat": 4,
 "nbformat_minor": 5
}
