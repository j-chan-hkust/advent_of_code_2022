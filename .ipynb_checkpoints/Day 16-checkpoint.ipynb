{
 "cells": [
  {
   "cell_type": "code",
   "execution_count": 1,
   "metadata": {},
   "outputs": [],
   "source": [
    "input_str = \"\"\"Valve AA has flow rate=0; tunnels lead to valves DD, II, BB\n",
    "Valve BB has flow rate=13; tunnels lead to valves CC, AA\n",
    "Valve CC has flow rate=2; tunnels lead to valves DD, BB\n",
    "Valve DD has flow rate=20; tunnels lead to valves CC, AA, EE\n",
    "Valve EE has flow rate=3; tunnels lead to valves FF, DD\n",
    "Valve FF has flow rate=0; tunnels lead to valves EE, GG\n",
    "Valve GG has flow rate=0; tunnels lead to valves FF, HH\n",
    "Valve HH has flow rate=22; tunnel leads to valve GG\n",
    "Valve II has flow rate=0; tunnels lead to valves AA, JJ\n",
    "Valve JJ has flow rate=21; tunnel leads to valve II\"\"\""
   ]
  },
  {
   "cell_type": "code",
   "execution_count": 2,
   "metadata": {},
   "outputs": [],
   "source": [
    "valve_info = input_str.splitlines()"
   ]
  },
  {
   "cell_type": "code",
   "execution_count": 6,
   "metadata": {},
   "outputs": [],
   "source": [
    "valves = {}\n",
    "for valve in valve_info:\n",
    "    name_flow, tunnels = valve.split('; ') \n",
    "    name, flow = name_flow.split('flow rate=')\n",
    "    name = name[6:8]\n",
    "    flow = int(flow)\n",
    "    tunnels = tunnels[23:].split(', ')\n",
    "    valves[name] = [flow, tunnels]"
   ]
  },
  {
   "cell_type": "code",
   "execution_count": 7,
   "metadata": {},
   "outputs": [
    {
     "data": {
      "text/plain": [
       "{'AA': [0, ['DD', 'II', 'BB']],\n",
       " 'BB': [13, ['CC', 'AA']],\n",
       " 'CC': [2, ['DD', 'BB']],\n",
       " 'DD': [20, ['CC', 'AA', 'EE']],\n",
       " 'EE': [3, ['FF', 'DD']],\n",
       " 'FF': [0, ['EE', 'GG']],\n",
       " 'GG': [0, ['FF', 'HH']],\n",
       " 'HH': [22, ['G']],\n",
       " 'II': [0, ['AA', 'JJ']],\n",
       " 'JJ': [21, ['I']]}"
      ]
     },
     "execution_count": 7,
     "metadata": {},
     "output_type": "execute_result"
    }
   ],
   "source": [
    "valves"
   ]
  },
  {
   "cell_type": "code",
   "execution_count": 22,
   "metadata": {},
   "outputs": [],
   "source": [
    "# now we do a happy little breadth first search\n",
    "# interesting to note that opening a valve creates a new pressure release equal to remaining time left\n",
    "# value maximization function should probably keep this in mind\\\n",
    "\n",
    "queue = [list(valves.keys())[0]]\n",
    "\n",
    "while len(queue) == 0:\n",
    "    exploring = queue.pop()\n",
    "    "
   ]
  },
  {
   "cell_type": "code",
   "execution_count": 25,
   "metadata": {},
   "outputs": [
    {
     "data": {
      "text/plain": [
       "3"
      ]
     },
     "execution_count": 25,
     "metadata": {},
     "output_type": "execute_result"
    }
   ],
   "source": [
    "[1,2,3].pop()"
   ]
  },
  {
   "cell_type": "code",
   "execution_count": null,
   "metadata": {},
   "outputs": [],
   "source": []
  }
 ],
 "metadata": {
  "kernelspec": {
   "display_name": "Python 3",
   "language": "python",
   "name": "python3"
  },
  "language_info": {
   "codemirror_mode": {
    "name": "ipython",
    "version": 3
   },
   "file_extension": ".py",
   "mimetype": "text/x-python",
   "name": "python",
   "nbconvert_exporter": "python",
   "pygments_lexer": "ipython3",
   "version": "3.7.3"
  }
 },
 "nbformat": 4,
 "nbformat_minor": 2
}
