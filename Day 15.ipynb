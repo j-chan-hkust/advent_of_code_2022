{
 "cells": [
  {
   "cell_type": "code",
   "execution_count": 5,
   "id": "ee53bf68",
   "metadata": {},
   "outputs": [],
   "source": [
    "input_str = \"\"\"Sensor at x=2, y=18: closest beacon is at x=-2, y=15\n",
    "Sensor at x=9, y=16: closest beacon is at x=10, y=16\n",
    "Sensor at x=13, y=2: closest beacon is at x=15, y=3\n",
    "Sensor at x=12, y=14: closest beacon is at x=10, y=16\n",
    "Sensor at x=10, y=20: closest beacon is at x=10, y=16\n",
    "Sensor at x=14, y=17: closest beacon is at x=10, y=16\n",
    "Sensor at x=8, y=7: closest beacon is at x=2, y=10\n",
    "Sensor at x=2, y=0: closest beacon is at x=2, y=10\n",
    "Sensor at x=0, y=11: closest beacon is at x=2, y=10\n",
    "Sensor at x=20, y=14: closest beacon is at x=25, y=17\n",
    "Sensor at x=17, y=20: closest beacon is at x=21, y=22\n",
    "Sensor at x=16, y=7: closest beacon is at x=15, y=3\n",
    "Sensor at x=14, y=3: closest beacon is at x=15, y=3\n",
    "Sensor at x=20, y=1: closest beacon is at x=15, y=3\"\"\""
   ]
  },
  {
   "cell_type": "code",
   "execution_count": 6,
   "id": "b979635b",
   "metadata": {},
   "outputs": [],
   "source": [
    "sensor_info = input_str.split('\\n')"
   ]
  },
  {
   "cell_type": "code",
   "execution_count": 7,
   "id": "d64e340f",
   "metadata": {},
   "outputs": [
    {
     "name": "stdout",
     "output_type": "stream",
     "text": [
      "7\n",
      "1\n",
      "3\n",
      "4\n",
      "4\n",
      "5\n",
      "9\n",
      "10\n",
      "3\n",
      "8\n",
      "6\n",
      "5\n",
      "1\n",
      "7\n"
     ]
    }
   ],
   "source": [
    "#I was originally planning to do a set based implementation. \n",
    "#However, looking at how absolutely huge the number, decided that a math and interval based solution probably better\n",
    "import interval\n",
    "sensors = set()\n",
    "beacons = set()\n",
    "target_y = 10\n",
    "result_interval = interval.interval()\n",
    "\n",
    "for info in sensor_info:\n",
    "    sensor, beacon = info.split(': ')\n",
    "    sensor_coor = sensor[10:]\n",
    "    beacon_coor = beacon[21:]\n",
    "    sensor_x,sensor_y = sensor_coor.split(', ')\n",
    "    sensor_x = int(sensor_x[2:])\n",
    "    sensor_y = int(sensor_y[2:])\n",
    "    beacon_x,beacon_y = beacon_coor.split(', ')\n",
    "    beacon_x = int(beacon_x[2:])\n",
    "    beacon_y = int(beacon_y[2:])\n",
    "    manhattan_dist = abs(sensor_x-beacon_x)+abs(sensor_y-beacon_y)\n",
    "    \n",
    "    vertical_distance_from_target = abs(sensor_y-target_y)\n",
    "    if vertical_distance_from_target<=manhattan_dist:\n",
    "        result_interval = result_interval|interval.interval[sensor_x-(manhattan_dist-vertical_distance_from_target),sensor_x+(manhattan_dist-vertical_distance_from_target)]\n",
    "    print(manhattan_dist)\n",
    "    sensors.add((sensor_x,sensor_y))\n",
    "    beacons.add((beacon_x,beacon_y))"
   ]
  },
  {
   "cell_type": "code",
   "execution_count": 8,
   "id": "3777c18e",
   "metadata": {},
   "outputs": [
    {
     "data": {
      "text/plain": [
       "{(0, 11),\n",
       " (2, 0),\n",
       " (2, 18),\n",
       " (8, 7),\n",
       " (9, 16),\n",
       " (10, 20),\n",
       " (12, 14),\n",
       " (13, 2),\n",
       " (14, 3),\n",
       " (14, 17),\n",
       " (16, 7),\n",
       " (17, 20),\n",
       " (20, 1),\n",
       " (20, 14)}"
      ]
     },
     "execution_count": 8,
     "metadata": {},
     "output_type": "execute_result"
    }
   ],
   "source": [
    "sensors"
   ]
  },
  {
   "cell_type": "code",
   "execution_count": 9,
   "id": "e2bc095b",
   "metadata": {},
   "outputs": [
    {
     "data": {
      "text/plain": [
       "{(-2, 15), (2, 10), (10, 16), (15, 3), (21, 22), (25, 17)}"
      ]
     },
     "execution_count": 9,
     "metadata": {},
     "output_type": "execute_result"
    }
   ],
   "source": [
    "beacons"
   ]
  },
  {
   "cell_type": "code",
   "execution_count": 10,
   "id": "98b5ace6",
   "metadata": {},
   "outputs": [
    {
     "data": {
      "text/plain": [
       "interval([-2.0, 24.0])"
      ]
     },
     "execution_count": 10,
     "metadata": {},
     "output_type": "execute_result"
    }
   ],
   "source": [
    "result_interval"
   ]
  },
  {
   "cell_type": "code",
   "execution_count": 11,
   "id": "05f196db",
   "metadata": {},
   "outputs": [],
   "source": [
    "count = 0\n",
    "for interval in result_interval:\n",
    "    width = interval.sup-interval.inf\n",
    "    count += int(width + 1)"
   ]
  },
  {
   "cell_type": "code",
   "execution_count": 12,
   "id": "93d1d71e",
   "metadata": {},
   "outputs": [
    {
     "data": {
      "text/plain": [
       "27"
      ]
     },
     "execution_count": 12,
     "metadata": {},
     "output_type": "execute_result"
    }
   ],
   "source": [
    "count"
   ]
  },
  {
   "cell_type": "code",
   "execution_count": 13,
   "id": "b83d7276",
   "metadata": {},
   "outputs": [],
   "source": [
    "for beacon in beacons:\n",
    "    if beacon[1] == target_y:\n",
    "        count -= 1"
   ]
  },
  {
   "cell_type": "code",
   "execution_count": 14,
   "id": "9116ca3d",
   "metadata": {},
   "outputs": [
    {
     "data": {
      "text/plain": [
       "26"
      ]
     },
     "execution_count": 14,
     "metadata": {},
     "output_type": "execute_result"
    }
   ],
   "source": [
    "count"
   ]
  },
  {
   "cell_type": "code",
   "execution_count": 15,
   "id": "f680cdce",
   "metadata": {},
   "outputs": [],
   "source": [
    "input_str = \"\"\"Sensor at x=193758, y=2220950: closest beacon is at x=652350, y=2000000\n",
    "Sensor at x=3395706, y=3633894: closest beacon is at x=3404471, y=3632467\n",
    "Sensor at x=3896022, y=3773818: closest beacon is at x=3404471, y=3632467\n",
    "Sensor at x=1442554, y=1608100: closest beacon is at x=652350, y=2000000\n",
    "Sensor at x=803094, y=813675: closest beacon is at x=571163, y=397470\n",
    "Sensor at x=3491072, y=3408908: closest beacon is at x=3404471, y=3632467\n",
    "Sensor at x=1405010, y=486446: closest beacon is at x=571163, y=397470\n",
    "Sensor at x=3369963, y=3641076: closest beacon is at x=3404471, y=3632467\n",
    "Sensor at x=3778742, y=2914974: closest beacon is at x=4229371, y=3237483\n",
    "Sensor at x=1024246, y=3626229: closest beacon is at x=2645627, y=3363491\n",
    "Sensor at x=3937091, y=2143160: closest beacon is at x=4229371, y=3237483\n",
    "Sensor at x=2546325, y=2012887: closest beacon is at x=2645627, y=3363491\n",
    "Sensor at x=3505386, y=3962087: closest beacon is at x=3404471, y=3632467\n",
    "Sensor at x=819467, y=239010: closest beacon is at x=571163, y=397470\n",
    "Sensor at x=2650614, y=595151: closest beacon is at x=3367919, y=-1258\n",
    "Sensor at x=3502942, y=6438: closest beacon is at x=3367919, y=-1258\n",
    "Sensor at x=3924022, y=634379: closest beacon is at x=3367919, y=-1258\n",
    "Sensor at x=2935977, y=2838245: closest beacon is at x=2645627, y=3363491\n",
    "Sensor at x=1897626, y=7510: closest beacon is at x=3367919, y=-1258\n",
    "Sensor at x=151527, y=640680: closest beacon is at x=571163, y=397470\n",
    "Sensor at x=433246, y=1337298: closest beacon is at x=652350, y=2000000\n",
    "Sensor at x=2852855, y=3976978: closest beacon is at x=3282750, y=3686146\n",
    "Sensor at x=3328398, y=3645875: closest beacon is at x=3282750, y=3686146\n",
    "Sensor at x=3138934, y=3439134: closest beacon is at x=3282750, y=3686146\n",
    "Sensor at x=178, y=2765639: closest beacon is at x=652350, y=2000000\n",
    "Sensor at x=3386231, y=3635056: closest beacon is at x=3404471, y=3632467\n",
    "Sensor at x=3328074, y=1273456: closest beacon is at x=3367919, y=-1258\n",
    "Sensor at x=268657, y=162438: closest beacon is at x=571163, y=397470\"\"\""
   ]
  },
  {
   "cell_type": "code",
   "execution_count": 16,
   "id": "4934b4e2",
   "metadata": {},
   "outputs": [],
   "source": [
    "sensor_info = input_str.split('\\n')"
   ]
  },
  {
   "cell_type": "code",
   "execution_count": 17,
   "id": "250858ce",
   "metadata": {},
   "outputs": [
    {
     "name": "stdout",
     "output_type": "stream",
     "text": [
      "679542\n",
      "10192\n",
      "632902\n",
      "1182104\n",
      "648136\n",
      "310160\n",
      "922823\n",
      "43117\n",
      "773138\n",
      "1884119\n",
      "1386603\n",
      "1449906\n",
      "430535\n",
      "406764\n",
      "1313714\n",
      "142719\n",
      "1191740\n",
      "815596\n",
      "1479061\n",
      "662846\n",
      "881806\n",
      "720727\n",
      "85919\n",
      "390828\n",
      "1417811\n",
      "20829\n",
      "1314559\n",
      "537538\n"
     ]
    }
   ],
   "source": [
    "#I was originally planning to do a set based implementation. \n",
    "#However, looking at how absolutely huge the number, decided that a math and interval based solution probably better\n",
    "import interval\n",
    "sensors = set()\n",
    "beacons = set()\n",
    "target_y = 2000000\n",
    "result_interval = interval.interval()\n",
    "\n",
    "for info in sensor_info:\n",
    "    sensor, beacon = info.split(': ')\n",
    "    sensor_coor = sensor[10:]\n",
    "    beacon_coor = beacon[21:]\n",
    "    sensor_x,sensor_y = sensor_coor.split(', ')\n",
    "    sensor_x = int(sensor_x[2:])\n",
    "    sensor_y = int(sensor_y[2:])\n",
    "    beacon_x,beacon_y = beacon_coor.split(', ')\n",
    "    beacon_x = int(beacon_x[2:])\n",
    "    beacon_y = int(beacon_y[2:])\n",
    "    manhattan_dist = abs(sensor_x-beacon_x)+abs(sensor_y-beacon_y)\n",
    "    \n",
    "    vertical_distance_from_target = abs(sensor_y-target_y)\n",
    "    if vertical_distance_from_target<=manhattan_dist:\n",
    "        result_interval = result_interval|interval.interval[sensor_x-(manhattan_dist-vertical_distance_from_target),sensor_x+(manhattan_dist-vertical_distance_from_target)]\n",
    "    print(manhattan_dist)\n",
    "    sensors.add((sensor_x,sensor_y))\n",
    "    beacons.add((beacon_x,beacon_y))"
   ]
  },
  {
   "cell_type": "code",
   "execution_count": 18,
   "id": "f069f4dd",
   "metadata": {},
   "outputs": [
    {
     "data": {
      "text/plain": [
       "{(178, 2765639),\n",
       " (151527, 640680),\n",
       " (193758, 2220950),\n",
       " (268657, 162438),\n",
       " (433246, 1337298),\n",
       " (803094, 813675),\n",
       " (819467, 239010),\n",
       " (1024246, 3626229),\n",
       " (1405010, 486446),\n",
       " (1442554, 1608100),\n",
       " (1897626, 7510),\n",
       " (2546325, 2012887),\n",
       " (2650614, 595151),\n",
       " (2852855, 3976978),\n",
       " (2935977, 2838245),\n",
       " (3138934, 3439134),\n",
       " (3328074, 1273456),\n",
       " (3328398, 3645875),\n",
       " (3369963, 3641076),\n",
       " (3386231, 3635056),\n",
       " (3395706, 3633894),\n",
       " (3491072, 3408908),\n",
       " (3502942, 6438),\n",
       " (3505386, 3962087),\n",
       " (3778742, 2914974),\n",
       " (3896022, 3773818),\n",
       " (3924022, 634379),\n",
       " (3937091, 2143160)}"
      ]
     },
     "execution_count": 18,
     "metadata": {},
     "output_type": "execute_result"
    }
   ],
   "source": [
    "sensors"
   ]
  },
  {
   "cell_type": "code",
   "execution_count": 19,
   "id": "e2e703b1",
   "metadata": {},
   "outputs": [
    {
     "data": {
      "text/plain": [
       "{(571163, 397470),\n",
       " (652350, 2000000),\n",
       " (2645627, 3363491),\n",
       " (3282750, 3686146),\n",
       " (3367919, -1258),\n",
       " (3404471, 3632467),\n",
       " (4229371, 3237483)}"
      ]
     },
     "execution_count": 19,
     "metadata": {},
     "output_type": "execute_result"
    }
   ],
   "source": [
    "beacons"
   ]
  },
  {
   "cell_type": "code",
   "execution_count": 20,
   "id": "58767a02",
   "metadata": {},
   "outputs": [
    {
     "data": {
      "text/plain": [
       "interval([-651994.0, 5180534.0])"
      ]
     },
     "execution_count": 20,
     "metadata": {},
     "output_type": "execute_result"
    }
   ],
   "source": [
    "result_interval"
   ]
  },
  {
   "cell_type": "code",
   "execution_count": 21,
   "id": "5b286e62",
   "metadata": {},
   "outputs": [],
   "source": [
    "count = 0\n",
    "for interval in result_interval:\n",
    "    width = interval.sup-interval.inf\n",
    "    count += int(width + 1)"
   ]
  },
  {
   "cell_type": "code",
   "execution_count": 22,
   "id": "af6e8476",
   "metadata": {},
   "outputs": [
    {
     "data": {
      "text/plain": [
       "5832529"
      ]
     },
     "execution_count": 22,
     "metadata": {},
     "output_type": "execute_result"
    }
   ],
   "source": [
    "count"
   ]
  },
  {
   "cell_type": "code",
   "execution_count": 23,
   "id": "b2e1239e",
   "metadata": {},
   "outputs": [],
   "source": [
    "for beacon in beacons:\n",
    "    if beacon[1] == target_y:\n",
    "        count -= 1"
   ]
  },
  {
   "cell_type": "code",
   "execution_count": 24,
   "id": "42b503cf",
   "metadata": {},
   "outputs": [
    {
     "data": {
      "text/plain": [
       "5832528"
      ]
     },
     "execution_count": 24,
     "metadata": {},
     "output_type": "execute_result"
    }
   ],
   "source": [
    "count"
   ]
  },
  {
   "cell_type": "code",
   "execution_count": 27,
   "id": "28160011",
   "metadata": {},
   "outputs": [
    {
     "data": {
      "text/plain": [
       "1"
      ]
     },
     "execution_count": 27,
     "metadata": {},
     "output_type": "execute_result"
    }
   ],
   "source": [
    "len(result_interval)"
   ]
  },
  {
   "cell_type": "code",
   "execution_count": 29,
   "id": "b730c9fd",
   "metadata": {},
   "outputs": [
    {
     "name": "stdout",
     "output_type": "stream",
     "text": [
      "0\n",
      "10000\n",
      "20000\n",
      "30000\n",
      "40000\n",
      "50000\n",
      "60000\n",
      "70000\n",
      "80000\n",
      "90000\n",
      "100000\n",
      "110000\n",
      "120000\n",
      "130000\n",
      "140000\n",
      "150000\n",
      "160000\n",
      "170000\n",
      "180000\n",
      "190000\n",
      "200000\n",
      "210000\n",
      "220000\n",
      "230000\n",
      "240000\n",
      "250000\n",
      "260000\n",
      "270000\n",
      "280000\n",
      "290000\n",
      "300000\n",
      "310000\n",
      "320000\n",
      "330000\n",
      "340000\n",
      "350000\n",
      "360000\n",
      "370000\n",
      "380000\n",
      "390000\n",
      "400000\n",
      "410000\n",
      "420000\n",
      "430000\n",
      "440000\n",
      "450000\n",
      "460000\n",
      "470000\n",
      "480000\n",
      "490000\n",
      "500000\n",
      "510000\n",
      "520000\n",
      "530000\n",
      "540000\n",
      "550000\n",
      "560000\n",
      "570000\n",
      "580000\n",
      "590000\n",
      "600000\n",
      "610000\n",
      "620000\n",
      "630000\n",
      "640000\n",
      "650000\n",
      "660000\n",
      "670000\n",
      "680000\n",
      "690000\n",
      "700000\n",
      "710000\n",
      "720000\n",
      "730000\n",
      "740000\n",
      "750000\n",
      "760000\n",
      "770000\n",
      "780000\n",
      "790000\n",
      "800000\n",
      "810000\n",
      "820000\n",
      "830000\n",
      "840000\n",
      "850000\n",
      "860000\n",
      "870000\n",
      "880000\n",
      "890000\n",
      "900000\n",
      "910000\n",
      "920000\n",
      "930000\n",
      "940000\n",
      "950000\n",
      "960000\n",
      "970000\n",
      "980000\n",
      "990000\n",
      "1000000\n",
      "1010000\n",
      "1020000\n",
      "1030000\n",
      "1040000\n",
      "1050000\n",
      "1060000\n",
      "1070000\n",
      "1080000\n",
      "1090000\n",
      "1100000\n",
      "1110000\n",
      "1120000\n",
      "1130000\n",
      "1140000\n",
      "1150000\n",
      "1160000\n",
      "1170000\n",
      "1180000\n",
      "1190000\n",
      "1200000\n",
      "1210000\n",
      "1220000\n",
      "1230000\n",
      "1240000\n",
      "1250000\n",
      "1260000\n",
      "1270000\n",
      "1280000\n",
      "1290000\n",
      "1300000\n",
      "1310000\n",
      "1320000\n",
      "1330000\n",
      "1340000\n",
      "1350000\n",
      "1360000\n",
      "1370000\n",
      "1380000\n",
      "1390000\n",
      "1400000\n",
      "1410000\n",
      "1420000\n",
      "1430000\n",
      "1440000\n",
      "1450000\n",
      "1460000\n",
      "1470000\n",
      "1480000\n",
      "1490000\n",
      "1500000\n",
      "1510000\n",
      "1520000\n",
      "1530000\n",
      "1540000\n",
      "1550000\n",
      "1560000\n",
      "1570000\n",
      "1580000\n",
      "1590000\n",
      "1600000\n",
      "1610000\n",
      "1620000\n",
      "1630000\n",
      "1640000\n",
      "1650000\n",
      "1660000\n",
      "1670000\n",
      "1680000\n",
      "1690000\n",
      "1700000\n",
      "1710000\n",
      "1720000\n",
      "1730000\n",
      "1740000\n",
      "1750000\n",
      "1760000\n",
      "1770000\n",
      "1780000\n",
      "1790000\n",
      "1800000\n",
      "1810000\n",
      "1820000\n",
      "1830000\n",
      "1840000\n",
      "1850000\n",
      "1860000\n",
      "1870000\n",
      "1880000\n",
      "1890000\n",
      "1900000\n",
      "1910000\n",
      "1920000\n",
      "1930000\n",
      "1940000\n",
      "1950000\n",
      "1960000\n",
      "1970000\n",
      "1980000\n",
      "1990000\n",
      "2000000\n",
      "2010000\n",
      "2020000\n",
      "2030000\n",
      "2040000\n",
      "2050000\n",
      "2060000\n",
      "2070000\n",
      "2080000\n",
      "2090000\n",
      "2100000\n",
      "2110000\n",
      "2120000\n",
      "2130000\n",
      "2140000\n",
      "2150000\n",
      "2160000\n",
      "2170000\n",
      "2180000\n",
      "2190000\n",
      "2200000\n",
      "2210000\n",
      "2220000\n",
      "2230000\n",
      "2240000\n",
      "2250000\n",
      "2260000\n",
      "2270000\n",
      "2280000\n",
      "2290000\n",
      "2300000\n",
      "2310000\n",
      "2320000\n",
      "2330000\n",
      "2340000\n",
      "2350000\n",
      "2360000\n",
      "2370000\n",
      "2380000\n",
      "2390000\n",
      "2400000\n",
      "2410000\n",
      "2420000\n",
      "2430000\n",
      "2440000\n",
      "2450000\n",
      "2460000\n",
      "2470000\n",
      "2480000\n",
      "2490000\n",
      "2500000\n",
      "2510000\n",
      "2520000\n",
      "2530000\n",
      "2540000\n",
      "2550000\n",
      "2560000\n",
      "2570000\n",
      "2580000\n",
      "2590000\n",
      "2600000\n",
      "2610000\n",
      "2620000\n",
      "2630000\n",
      "2640000\n",
      "2650000\n",
      "2660000\n",
      "2670000\n",
      "2680000\n",
      "2690000\n",
      "2700000\n",
      "2710000\n",
      "2720000\n",
      "2730000\n",
      "2740000\n",
      "2750000\n",
      "2760000\n",
      "2770000\n",
      "2780000\n",
      "2790000\n",
      "2800000\n",
      "2810000\n",
      "2820000\n",
      "2830000\n",
      "2840000\n",
      "2850000\n",
      "2860000\n",
      "2870000\n",
      "2880000\n",
      "2890000\n",
      "2900000\n",
      "2910000\n",
      "2920000\n",
      "2930000\n",
      "2940000\n",
      "2950000\n",
      "2960000\n",
      "2970000\n",
      "2980000\n",
      "2990000\n",
      "3000000\n",
      "3010000\n",
      "3020000\n",
      "3030000\n",
      "3040000\n",
      "3050000\n",
      "3060000\n",
      "3070000\n",
      "3080000\n",
      "3090000\n",
      "3100000\n",
      "3110000\n",
      "3120000\n",
      "3130000\n",
      "3140000\n",
      "3150000\n",
      "3160000\n",
      "3170000\n",
      "3180000\n",
      "3190000\n",
      "3200000\n",
      "3210000\n",
      "3220000\n",
      "3230000\n",
      "3240000\n",
      "interval([-933677.0, 3340223.0], [3340225.0, 4217259.0])\n",
      "3250000\n",
      "3260000\n",
      "3270000\n",
      "3280000\n",
      "3290000\n",
      "3300000\n",
      "3310000\n",
      "3320000\n",
      "3330000\n",
      "3340000\n",
      "3350000\n",
      "3360000\n",
      "3370000\n",
      "3380000\n",
      "3390000\n",
      "3400000\n",
      "3410000\n",
      "3420000\n",
      "3430000\n",
      "3440000\n",
      "3450000\n",
      "3460000\n",
      "3470000\n",
      "3480000\n",
      "3490000\n",
      "3500000\n",
      "3510000\n",
      "3520000\n"
     ]
    },
    {
     "ename": "KeyboardInterrupt",
     "evalue": "",
     "output_type": "error",
     "traceback": [
      "\u001b[0;31m---------------------------------------------------------------------------\u001b[0m",
      "\u001b[0;31mKeyboardInterrupt\u001b[0m                         Traceback (most recent call last)",
      "Input \u001b[0;32mIn [29]\u001b[0m, in \u001b[0;36m<cell line: 1>\u001b[0;34m()\u001b[0m\n\u001b[1;32m     18\u001b[0m     vertical_distance_from_target \u001b[38;5;241m=\u001b[39m \u001b[38;5;28mabs\u001b[39m(sensor_y\u001b[38;5;241m-\u001b[39mtarget_y)\n\u001b[1;32m     19\u001b[0m     \u001b[38;5;28;01mif\u001b[39;00m vertical_distance_from_target\u001b[38;5;241m<\u001b[39m\u001b[38;5;241m=\u001b[39mmanhattan_dist:\n\u001b[0;32m---> 20\u001b[0m         result_interval \u001b[38;5;241m=\u001b[39m result_interval\u001b[38;5;241m|\u001b[39m\u001b[43minterval\u001b[49m\u001b[38;5;241;43m.\u001b[39;49m\u001b[43minterval\u001b[49m\u001b[43m[\u001b[49m\u001b[43msensor_x\u001b[49m\u001b[38;5;241;43m-\u001b[39;49m\u001b[43m(\u001b[49m\u001b[43mmanhattan_dist\u001b[49m\u001b[38;5;241;43m-\u001b[39;49m\u001b[43mvertical_distance_from_target\u001b[49m\u001b[43m)\u001b[49m\u001b[43m,\u001b[49m\u001b[43msensor_x\u001b[49m\u001b[38;5;241;43m+\u001b[39;49m\u001b[43m(\u001b[49m\u001b[43mmanhattan_dist\u001b[49m\u001b[38;5;241;43m-\u001b[39;49m\u001b[43mvertical_distance_from_target\u001b[49m\u001b[43m)\u001b[49m\u001b[43m]\u001b[49m\n\u001b[1;32m     21\u001b[0m \u001b[38;5;28;01mif\u001b[39;00m \u001b[38;5;28mlen\u001b[39m(result_interval) \u001b[38;5;241m>\u001b[39m \u001b[38;5;241m1\u001b[39m:\n\u001b[1;32m     22\u001b[0m     \u001b[38;5;28mprint\u001b[39m(result_interval)\n",
      "File \u001b[0;32m~/opt/anaconda3/lib/python3.9/site-packages/interval/__init__.py:52\u001b[0m, in \u001b[0;36mMetaclass.__getitem__\u001b[0;34m(self, arg)\u001b[0m\n\u001b[1;32m     51\u001b[0m \u001b[38;5;28;01mdef\u001b[39;00m \u001b[38;5;21m__getitem__\u001b[39m(\u001b[38;5;28mself\u001b[39m, arg):\n\u001b[0;32m---> 52\u001b[0m     \u001b[38;5;28;01mreturn\u001b[39;00m \u001b[38;5;28;43mself\u001b[39;49m\u001b[43m(\u001b[49m\u001b[43marg\u001b[49m\u001b[43m)\u001b[49m\n",
      "File \u001b[0;32m~/opt/anaconda3/lib/python3.9/site-packages/interval/__init__.py:96\u001b[0m, in \u001b[0;36minterval.__new__\u001b[0;34m(cls, *args)\u001b[0m\n\u001b[1;32m     93\u001b[0m     \u001b[38;5;28;01melse\u001b[39;00m:\n\u001b[1;32m     94\u001b[0m         \u001b[38;5;28;01mreturn\u001b[39;00m \u001b[38;5;28mcls\u001b[39m\u001b[38;5;241m.\u001b[39mhull((\u001b[38;5;28mcls\u001b[39m\u001b[38;5;241m.\u001b[39mcast(x), \u001b[38;5;28mcls\u001b[39m\u001b[38;5;241m.\u001b[39mcast(y)))\n\u001b[0;32m---> 96\u001b[0m \u001b[38;5;28;01mdef\u001b[39;00m \u001b[38;5;21mprocess\u001b[39m(x):\n\u001b[1;32m     97\u001b[0m     \u001b[38;5;28;01mtry\u001b[39;00m:\n\u001b[1;32m     98\u001b[0m         \u001b[38;5;28;01mreturn\u001b[39;00m make_component(\u001b[38;5;241m*\u001b[39mx \u001b[38;5;28;01mif\u001b[39;00m \u001b[38;5;28mhasattr\u001b[39m(x, \u001b[38;5;124m'\u001b[39m\u001b[38;5;124m__iter__\u001b[39m\u001b[38;5;124m'\u001b[39m) \u001b[38;5;28;01melse\u001b[39;00m (x,))\n",
      "\u001b[0;31mKeyboardInterrupt\u001b[0m: "
     ]
    }
   ],
   "source": [
    "\n",
    "for target_y in range(4000000):\n",
    "    import interval\n",
    "    \n",
    "    result_interval = interval.interval()\n",
    "\n",
    "    for info in sensor_info:\n",
    "        sensor, beacon = info.split(': ')\n",
    "        sensor_coor = sensor[10:]\n",
    "        beacon_coor = beacon[21:]\n",
    "        sensor_x,sensor_y = sensor_coor.split(', ')\n",
    "        sensor_x = int(sensor_x[2:])\n",
    "        sensor_y = int(sensor_y[2:])\n",
    "        beacon_x,beacon_y = beacon_coor.split(', ')\n",
    "        beacon_x = int(beacon_x[2:])\n",
    "        beacon_y = int(beacon_y[2:])\n",
    "        manhattan_dist = abs(sensor_x-beacon_x)+abs(sensor_y-beacon_y)\n",
    "\n",
    "        vertical_distance_from_target = abs(sensor_y-target_y)\n",
    "        if vertical_distance_from_target<=manhattan_dist:\n",
    "            result_interval = result_interval|interval.interval[sensor_x-(manhattan_dist-vertical_distance_from_target),sensor_x+(manhattan_dist-vertical_distance_from_target)]\n",
    "    if len(result_interval) > 1:\n",
    "        print(result_interval)\n",
    "        print(target_y)\n",
    "    if target_y%10000 == 0:\n",
    "        print(target_y)"
   ]
  },
  {
   "cell_type": "code",
   "execution_count": 30,
   "id": "a652947c",
   "metadata": {},
   "outputs": [
    {
     "name": "stdout",
     "output_type": "stream",
     "text": [
      "3240000\n",
      "interval([-933677.0, 3340223.0], [3340225.0, 4217259.0])\n",
      "3249595\n"
     ]
    }
   ],
   "source": [
    "\n",
    "for target_y in range(3240000,3250000):\n",
    "    import interval\n",
    "    \n",
    "    result_interval = interval.interval()\n",
    "\n",
    "    for info in sensor_info:\n",
    "        sensor, beacon = info.split(': ')\n",
    "        sensor_coor = sensor[10:]\n",
    "        beacon_coor = beacon[21:]\n",
    "        sensor_x,sensor_y = sensor_coor.split(', ')\n",
    "        sensor_x = int(sensor_x[2:])\n",
    "        sensor_y = int(sensor_y[2:])\n",
    "        beacon_x,beacon_y = beacon_coor.split(', ')\n",
    "        beacon_x = int(beacon_x[2:])\n",
    "        beacon_y = int(beacon_y[2:])\n",
    "        manhattan_dist = abs(sensor_x-beacon_x)+abs(sensor_y-beacon_y)\n",
    "\n",
    "        vertical_distance_from_target = abs(sensor_y-target_y)\n",
    "        if vertical_distance_from_target<=manhattan_dist:\n",
    "            result_interval = result_interval|interval.interval[sensor_x-(manhattan_dist-vertical_distance_from_target),sensor_x+(manhattan_dist-vertical_distance_from_target)]\n",
    "    if len(result_interval) > 1:\n",
    "        print(result_interval)\n",
    "        print(target_y)\n",
    "    if target_y%10000 == 0:\n",
    "        print(target_y)"
   ]
  },
  {
   "cell_type": "code",
   "execution_count": 32,
   "id": "16e412ea",
   "metadata": {},
   "outputs": [
    {
     "data": {
      "text/plain": [
       "13360899249595"
      ]
     },
     "execution_count": 32,
     "metadata": {},
     "output_type": "execute_result"
    }
   ],
   "source": [
    "3249595+4000000*3340224"
   ]
  },
  {
   "cell_type": "code",
   "execution_count": null,
   "id": "bede1d4e",
   "metadata": {},
   "outputs": [],
   "source": [
    "# so scuffed lol"
   ]
  }
 ],
 "metadata": {
  "kernelspec": {
   "display_name": "Python 3 (ipykernel)",
   "language": "python",
   "name": "python3"
  },
  "language_info": {
   "codemirror_mode": {
    "name": "ipython",
    "version": 3
   },
   "file_extension": ".py",
   "mimetype": "text/x-python",
   "name": "python",
   "nbconvert_exporter": "python",
   "pygments_lexer": "ipython3",
   "version": "3.9.12"
  }
 },
 "nbformat": 4,
 "nbformat_minor": 5
}
