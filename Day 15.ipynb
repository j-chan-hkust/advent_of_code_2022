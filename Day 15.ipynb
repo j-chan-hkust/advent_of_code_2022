{
 "cells": [
  {
   "cell_type": "code",
   "execution_count": 2,
   "id": "ee53bf68",
   "metadata": {},
   "outputs": [],
   "source": [
    "input_str = \"\"\"Sensor at x=2, y=18: closest beacon is at x=-2, y=15\n",
    "Sensor at x=9, y=16: closest beacon is at x=10, y=16\n",
    "Sensor at x=13, y=2: closest beacon is at x=15, y=3\n",
    "Sensor at x=12, y=14: closest beacon is at x=10, y=16\n",
    "Sensor at x=10, y=20: closest beacon is at x=10, y=16\n",
    "Sensor at x=14, y=17: closest beacon is at x=10, y=16\n",
    "Sensor at x=8, y=7: closest beacon is at x=2, y=10\n",
    "Sensor at x=2, y=0: closest beacon is at x=2, y=10\n",
    "Sensor at x=0, y=11: closest beacon is at x=2, y=10\n",
    "Sensor at x=20, y=14: closest beacon is at x=25, y=17\n",
    "Sensor at x=17, y=20: closest beacon is at x=21, y=22\n",
    "Sensor at x=16, y=7: closest beacon is at x=15, y=3\n",
    "Sensor at x=14, y=3: closest beacon is at x=15, y=3\n",
    "Sensor at x=20, y=1: closest beacon is at x=15, y=3\"\"\""
   ]
  },
  {
   "cell_type": "code",
   "execution_count": 3,
   "id": "b979635b",
   "metadata": {},
   "outputs": [],
   "source": [
    "sensor_info = input_str.split('\\n')"
   ]
  },
  {
   "cell_type": "code",
   "execution_count": 10,
   "id": "d64e340f",
   "metadata": {},
   "outputs": [
    {
     "name": "stdout",
     "output_type": "stream",
     "text": [
      "7\n",
      "1\n",
      "3\n",
      "4\n",
      "4\n",
      "5\n",
      "9\n",
      "10\n",
      "3\n",
      "8\n",
      "6\n",
      "5\n",
      "1\n",
      "7\n"
     ]
    }
   ],
   "source": [
    "#I was originally planning to do a set based implementation. \n",
    "#However, looking at how absolutely huge the number, decided that a math and interval based solution probably better\n",
    "from interval import interval, inf, imath\n",
    "sensors = set()\n",
    "beacons = set()\n",
    "target_y = 10\n",
    "result_interval = interval()\n",
    "\n",
    "for info in sensor_info:\n",
    "    sensor, beacon = info.split(': ')\n",
    "    sensor_coor = sensor[10:]\n",
    "    beacon_coor = beacon[21:]\n",
    "    sensor_x,sensor_y = sensor_coor.split(', ')\n",
    "    sensor_x = int(sensor_x[2:])\n",
    "    sensor_y = int(sensor_y[2:])\n",
    "    beacon_x,beacon_y = beacon_coor.split(', ')\n",
    "    beacon_x = int(beacon_x[2:])\n",
    "    beacon_y = int(beacon_y[2:])\n",
    "    manhattan_dist = abs(sensor_x-beacon_x)+abs(sensor_y-beacon_y)\n",
    "    \n",
    "    vertical_distance_from_target = abs(sensor_y-target_y)\n",
    "    if vertical_distance_from_target<=manhattan_dist:\n",
    "        result_interval = result_interval|interval[sensor_x-(manhattan_dist-vertical_distance_from_target),sensor_x+(manhattan_dist-vertical_distance_from_target)]\n",
    "    print(manhattan_dist)\n",
    "    sensors.add((sensor_x,sensor_y))\n",
    "    beacons.add((beacon_x,beacon_y))"
   ]
  },
  {
   "cell_type": "code",
   "execution_count": 11,
   "id": "3777c18e",
   "metadata": {},
   "outputs": [
    {
     "data": {
      "text/plain": [
       "{(0, 11),\n",
       " (2, 0),\n",
       " (2, 18),\n",
       " (8, 7),\n",
       " (9, 16),\n",
       " (10, 20),\n",
       " (12, 14),\n",
       " (13, 2),\n",
       " (14, 3),\n",
       " (14, 17),\n",
       " (16, 7),\n",
       " (17, 20),\n",
       " (20, 1),\n",
       " (20, 14)}"
      ]
     },
     "execution_count": 11,
     "metadata": {},
     "output_type": "execute_result"
    }
   ],
   "source": [
    "sensors"
   ]
  },
  {
   "cell_type": "code",
   "execution_count": 12,
   "id": "e2bc095b",
   "metadata": {},
   "outputs": [
    {
     "data": {
      "text/plain": [
       "{(-2, 15), (2, 10), (10, 16), (15, 3), (21, 22), (25, 17)}"
      ]
     },
     "execution_count": 12,
     "metadata": {},
     "output_type": "execute_result"
    }
   ],
   "source": [
    "beacons"
   ]
  },
  {
   "cell_type": "code",
   "execution_count": 13,
   "id": "98b5ace6",
   "metadata": {},
   "outputs": [
    {
     "data": {
      "text/plain": [
       "interval([-2.0, 24.0])"
      ]
     },
     "execution_count": 13,
     "metadata": {},
     "output_type": "execute_result"
    }
   ],
   "source": [
    "result_interval"
   ]
  },
  {
   "cell_type": "code",
   "execution_count": 17,
   "id": "05f196db",
   "metadata": {},
   "outputs": [],
   "source": [
    "count = 0\n",
    "for interval in result_interval:\n",
    "    width = interval.sup-interval.inf\n",
    "    count += int(width + 1)"
   ]
  },
  {
   "cell_type": "code",
   "execution_count": 18,
   "id": "93d1d71e",
   "metadata": {},
   "outputs": [
    {
     "data": {
      "text/plain": [
       "27"
      ]
     },
     "execution_count": 18,
     "metadata": {},
     "output_type": "execute_result"
    }
   ],
   "source": [
    "count"
   ]
  },
  {
   "cell_type": "code",
   "execution_count": 19,
   "id": "b83d7276",
   "metadata": {},
   "outputs": [],
   "source": [
    "for beacon in beacons:\n",
    "    if beacon[1] == target_y:\n",
    "        count -= 1"
   ]
  },
  {
   "cell_type": "code",
   "execution_count": 20,
   "id": "9116ca3d",
   "metadata": {},
   "outputs": [
    {
     "data": {
      "text/plain": [
       "26"
      ]
     },
     "execution_count": 20,
     "metadata": {},
     "output_type": "execute_result"
    }
   ],
   "source": [
    "count"
   ]
  },
  {
   "cell_type": "code",
   "execution_count": 21,
   "id": "f680cdce",
   "metadata": {},
   "outputs": [],
   "source": [
    "input_str = \"\"\"Sensor at x=193758, y=2220950: closest beacon is at x=652350, y=2000000\n",
    "Sensor at x=3395706, y=3633894: closest beacon is at x=3404471, y=3632467\n",
    "Sensor at x=3896022, y=3773818: closest beacon is at x=3404471, y=3632467\n",
    "Sensor at x=1442554, y=1608100: closest beacon is at x=652350, y=2000000\n",
    "Sensor at x=803094, y=813675: closest beacon is at x=571163, y=397470\n",
    "Sensor at x=3491072, y=3408908: closest beacon is at x=3404471, y=3632467\n",
    "Sensor at x=1405010, y=486446: closest beacon is at x=571163, y=397470\n",
    "Sensor at x=3369963, y=3641076: closest beacon is at x=3404471, y=3632467\n",
    "Sensor at x=3778742, y=2914974: closest beacon is at x=4229371, y=3237483\n",
    "Sensor at x=1024246, y=3626229: closest beacon is at x=2645627, y=3363491\n",
    "Sensor at x=3937091, y=2143160: closest beacon is at x=4229371, y=3237483\n",
    "Sensor at x=2546325, y=2012887: closest beacon is at x=2645627, y=3363491\n",
    "Sensor at x=3505386, y=3962087: closest beacon is at x=3404471, y=3632467\n",
    "Sensor at x=819467, y=239010: closest beacon is at x=571163, y=397470\n",
    "Sensor at x=2650614, y=595151: closest beacon is at x=3367919, y=-1258\n",
    "Sensor at x=3502942, y=6438: closest beacon is at x=3367919, y=-1258\n",
    "Sensor at x=3924022, y=634379: closest beacon is at x=3367919, y=-1258\n",
    "Sensor at x=2935977, y=2838245: closest beacon is at x=2645627, y=3363491\n",
    "Sensor at x=1897626, y=7510: closest beacon is at x=3367919, y=-1258\n",
    "Sensor at x=151527, y=640680: closest beacon is at x=571163, y=397470\n",
    "Sensor at x=433246, y=1337298: closest beacon is at x=652350, y=2000000\n",
    "Sensor at x=2852855, y=3976978: closest beacon is at x=3282750, y=3686146\n",
    "Sensor at x=3328398, y=3645875: closest beacon is at x=3282750, y=3686146\n",
    "Sensor at x=3138934, y=3439134: closest beacon is at x=3282750, y=3686146\n",
    "Sensor at x=178, y=2765639: closest beacon is at x=652350, y=2000000\n",
    "Sensor at x=3386231, y=3635056: closest beacon is at x=3404471, y=3632467\n",
    "Sensor at x=3328074, y=1273456: closest beacon is at x=3367919, y=-1258\n",
    "Sensor at x=268657, y=162438: closest beacon is at x=571163, y=397470\"\"\""
   ]
  },
  {
   "cell_type": "code",
   "execution_count": 22,
   "id": "4934b4e2",
   "metadata": {},
   "outputs": [],
   "source": [
    "sensor_info = input_str.split('\\n')"
   ]
  },
  {
   "cell_type": "code",
   "execution_count": 23,
   "id": "250858ce",
   "metadata": {},
   "outputs": [
    {
     "name": "stdout",
     "output_type": "stream",
     "text": [
      "679542\n",
      "10192\n",
      "632902\n",
      "1182104\n",
      "648136\n",
      "310160\n",
      "922823\n",
      "43117\n",
      "773138\n",
      "1884119\n",
      "1386603\n",
      "1449906\n",
      "430535\n",
      "406764\n",
      "1313714\n",
      "142719\n",
      "1191740\n",
      "815596\n",
      "1479061\n",
      "662846\n",
      "881806\n",
      "720727\n",
      "85919\n",
      "390828\n",
      "1417811\n",
      "20829\n",
      "1314559\n",
      "537538\n"
     ]
    }
   ],
   "source": [
    "#I was originally planning to do a set based implementation. \n",
    "#However, looking at how absolutely huge the number, decided that a math and interval based solution probably better\n",
    "from interval import interval, inf, imath\n",
    "sensors = set()\n",
    "beacons = set()\n",
    "target_y = 2000000\n",
    "result_interval = interval()\n",
    "\n",
    "for info in sensor_info:\n",
    "    sensor, beacon = info.split(': ')\n",
    "    sensor_coor = sensor[10:]\n",
    "    beacon_coor = beacon[21:]\n",
    "    sensor_x,sensor_y = sensor_coor.split(', ')\n",
    "    sensor_x = int(sensor_x[2:])\n",
    "    sensor_y = int(sensor_y[2:])\n",
    "    beacon_x,beacon_y = beacon_coor.split(', ')\n",
    "    beacon_x = int(beacon_x[2:])\n",
    "    beacon_y = int(beacon_y[2:])\n",
    "    manhattan_dist = abs(sensor_x-beacon_x)+abs(sensor_y-beacon_y)\n",
    "    \n",
    "    vertical_distance_from_target = abs(sensor_y-target_y)\n",
    "    if vertical_distance_from_target<=manhattan_dist:\n",
    "        result_interval = result_interval|interval[sensor_x-(manhattan_dist-vertical_distance_from_target),sensor_x+(manhattan_dist-vertical_distance_from_target)]\n",
    "    print(manhattan_dist)\n",
    "    sensors.add((sensor_x,sensor_y))\n",
    "    beacons.add((beacon_x,beacon_y))"
   ]
  },
  {
   "cell_type": "code",
   "execution_count": 24,
   "id": "f069f4dd",
   "metadata": {},
   "outputs": [
    {
     "data": {
      "text/plain": [
       "{(178, 2765639),\n",
       " (151527, 640680),\n",
       " (193758, 2220950),\n",
       " (268657, 162438),\n",
       " (433246, 1337298),\n",
       " (803094, 813675),\n",
       " (819467, 239010),\n",
       " (1024246, 3626229),\n",
       " (1405010, 486446),\n",
       " (1442554, 1608100),\n",
       " (1897626, 7510),\n",
       " (2546325, 2012887),\n",
       " (2650614, 595151),\n",
       " (2852855, 3976978),\n",
       " (2935977, 2838245),\n",
       " (3138934, 3439134),\n",
       " (3328074, 1273456),\n",
       " (3328398, 3645875),\n",
       " (3369963, 3641076),\n",
       " (3386231, 3635056),\n",
       " (3395706, 3633894),\n",
       " (3491072, 3408908),\n",
       " (3502942, 6438),\n",
       " (3505386, 3962087),\n",
       " (3778742, 2914974),\n",
       " (3896022, 3773818),\n",
       " (3924022, 634379),\n",
       " (3937091, 2143160)}"
      ]
     },
     "execution_count": 24,
     "metadata": {},
     "output_type": "execute_result"
    }
   ],
   "source": [
    "sensors"
   ]
  },
  {
   "cell_type": "code",
   "execution_count": 25,
   "id": "e2e703b1",
   "metadata": {},
   "outputs": [
    {
     "data": {
      "text/plain": [
       "{(571163, 397470),\n",
       " (652350, 2000000),\n",
       " (2645627, 3363491),\n",
       " (3282750, 3686146),\n",
       " (3367919, -1258),\n",
       " (3404471, 3632467),\n",
       " (4229371, 3237483)}"
      ]
     },
     "execution_count": 25,
     "metadata": {},
     "output_type": "execute_result"
    }
   ],
   "source": [
    "beacons"
   ]
  },
  {
   "cell_type": "code",
   "execution_count": 26,
   "id": "58767a02",
   "metadata": {},
   "outputs": [
    {
     "data": {
      "text/plain": [
       "interval([-651994.0, 5180534.0])"
      ]
     },
     "execution_count": 26,
     "metadata": {},
     "output_type": "execute_result"
    }
   ],
   "source": [
    "result_interval"
   ]
  },
  {
   "cell_type": "code",
   "execution_count": 27,
   "id": "5b286e62",
   "metadata": {},
   "outputs": [],
   "source": [
    "count = 0\n",
    "for interval in result_interval:\n",
    "    width = interval.sup-interval.inf\n",
    "    count += int(width + 1)"
   ]
  },
  {
   "cell_type": "code",
   "execution_count": 28,
   "id": "af6e8476",
   "metadata": {},
   "outputs": [
    {
     "data": {
      "text/plain": [
       "5832529"
      ]
     },
     "execution_count": 28,
     "metadata": {},
     "output_type": "execute_result"
    }
   ],
   "source": [
    "count"
   ]
  },
  {
   "cell_type": "code",
   "execution_count": 29,
   "id": "b2e1239e",
   "metadata": {},
   "outputs": [],
   "source": [
    "for beacon in beacons:\n",
    "    if beacon[1] == target_y:\n",
    "        count -= 1"
   ]
  },
  {
   "cell_type": "code",
   "execution_count": 30,
   "id": "42b503cf",
   "metadata": {},
   "outputs": [
    {
     "data": {
      "text/plain": [
       "5832528"
      ]
     },
     "execution_count": 30,
     "metadata": {},
     "output_type": "execute_result"
    }
   ],
   "source": [
    "count"
   ]
  },
  {
   "cell_type": "code",
   "execution_count": 32,
   "id": "28160011",
   "metadata": {},
   "outputs": [
    {
     "data": {
      "text/plain": [
       "1"
      ]
     },
     "execution_count": 32,
     "metadata": {},
     "output_type": "execute_result"
    }
   ],
   "source": [
    "len(result_interval)"
   ]
  },
  {
   "cell_type": "code",
   "execution_count": null,
   "id": "b730c9fd",
   "metadata": {},
   "outputs": [],
   "source": []
  }
 ],
 "metadata": {
  "kernelspec": {
   "display_name": "Python 3 (ipykernel)",
   "language": "python",
   "name": "python3"
  },
  "language_info": {
   "codemirror_mode": {
    "name": "ipython",
    "version": 3
   },
   "file_extension": ".py",
   "mimetype": "text/x-python",
   "name": "python",
   "nbconvert_exporter": "python",
   "pygments_lexer": "ipython3",
   "version": "3.9.12"
  }
 },
 "nbformat": 4,
 "nbformat_minor": 5
}
